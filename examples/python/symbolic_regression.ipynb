{
 "cells": [
  {
   "cell_type": "markdown",
   "metadata": {},
   "source": [
    "# Symbolic regression using cartesian genetic programming\n",
    "\n",
    "Here we're going to use pycartgp library to find an exact expression of some unknown function, knowing only its data points."
   ]
  },
  {
   "cell_type": "code",
   "execution_count": 1,
   "metadata": {},
   "outputs": [],
   "source": [
    "import math\n",
    "import pycartgp\n",
    "import matplotlib.pyplot as plt"
   ]
  },
  {
   "cell_type": "markdown",
   "metadata": {},
   "source": [
    "## The dataset\n",
    "First we need a dataset: a bunch of X and Ys for an \"unknown\" function."
   ]
  },
  {
   "cell_type": "code",
   "execution_count": 2,
   "metadata": {},
   "outputs": [],
   "source": [
    "def unknown_function(x):\n",
    "    return x**3 + 2 * x**2 + 3*x + 5\n",
    "\n",
    "num_points = 50\n",
    "all_x = [0.1 * (i - num_points/2) for i in range(num_points)]\n",
    "all_y = [unknown_function(x) for x in all_x]"
   ]
  },
  {
   "cell_type": "code",
   "execution_count": 3,
   "metadata": {},
   "outputs": [
    {
     "data": {
      "text/plain": [
       "<matplotlib.collections.PathCollection at 0x106bd16a0>"
      ]
     },
     "execution_count": 3,
     "metadata": {},
     "output_type": "execute_result"
    },
    {
     "data": {
      "image/png": "[encoded data removed]",
      "text/plain": [
       "<Figure size 432x288 with 1 Axes>"
      ]
     },
     "metadata": {},
     "output_type": "display_data"
    }
   ],
   "source": [
    "plt.scatter(all_x, all_y)"
   ]
  },
  {
   "cell_type": "markdown",
   "metadata": {},
   "source": [
    "## Functions and fitness\n",
    "\n",
    "To evaluate the solutions we need a fitness function. Here we use negative [MSE](https://en.wikipedia.org/wiki/Mean_squared_error)."
   ]
  },
  {
   "cell_type": "code",
   "execution_count": 4,
   "metadata": {},
   "outputs": [],
   "source": [
    "def fitness(genotype: pycartgp.Genotype, functions) -> float:\n",
    "    error = 0\n",
    "    for x, y in zip(all_x, all_y):\n",
    "        ty = genotype.evaluate(functions, [x])[0]\n",
    "        error += (y - ty)**2\n",
    "    return -error / len(all_x)"
   ]
  },
  {
   "cell_type": "markdown",
   "metadata": {},
   "source": [
    "We also need a list of functions we're going to build the solution from."
   ]
  },
  {
   "cell_type": "code",
   "execution_count": 5,
   "metadata": {},
   "outputs": [],
   "source": [
    "available_functions = [\n",
    "    (\"plus\", lambda args: args[0] + args[1]),\n",
    "    (\"minus\", lambda args: args[0] - args[1]),\n",
    "    (\"mul\", lambda args: args[0] * args[1]),\n",
    "    (\"div\", lambda args: (args[0] / args[1]) if args[1] != 0 else 1),  # \"protected\" division\n",
    "]"
   ]
  },
  {
   "cell_type": "markdown",
   "metadata": {},
   "source": [
    "# Evolving a solution"
   ]
  },
  {
   "cell_type": "markdown",
   "metadata": {},
   "source": [
    "We create a random genotype, the ancestor of our final solution. Because it's random, it's totally meaningless."
   ]
  },
  {
   "cell_type": "code",
   "execution_count": 6,
   "metadata": {},
   "outputs": [
    {
     "name": "stdout",
     "output_type": "stream",
     "text": [
      "[0, 0, 0, 1, 1, 1, 3, 2, 2, 2, 0, 0, 1, 3, 3, 0, 2, 3, 1, 1, 1, 0, 0, 5, 2, 4, 8, 3, 2, 2, 2, 10, 0, 2, 7, 3, 0, 11, 4, 0, 5, 8, 1, 3, 9, 1, 15, 7, 1, 5, 14, 3, 15, 14, 3, 13, 9, 1, 3, 3, 1, 0, 16, 1, 11, 2, 2, 7, 19, 3, 20, 22, 3, 9, 22, 2, 8, 0, 0, 15, 14, 0, 7, 0, 0, 0, 25, 1, 3, 28, 0, 0, 12, 2, 6, 27, 0, 32, 5, 1, 9, 11, 0, 4, 15, 0, 22, 34, 1, 31, 7, 2, 26, 18, 0, 11, 7, 0, 11, 18, 0, 15, 21, 2, 27, 27, 3, 19, 38, 2, 11, 31, 1, 25, 18, 3, 20, 20, 0, 43, 14, 3, 36, 27, 2, 14, 11, 3, 10, 24, 2, 0, 0, 2, 2, 23, 1, 27, 34, 3, 22, 4, 2, 26, 33, 3, 45, 33, 2, 26, 30, 2, 5, 18, 0, 25, 8, 0, 51, 4, 3, 51, 13, 1, 36, 29, 2, 19, 2, 2, 10, 14, 3, 25, 35, 1, 29, 44, 3, 41, 41, 3, 43, 23, 3, 66, 24, 3, 52, 37, 1, 41, 25, 2, 67, 70, 2, 0, 30, 1, 71, 71, 0, 59, 44, 3, 24, 50, 3, 75, 68, 2, 76, 3, 1, 57, 31, 2, 4, 42, 2, 1, 25, 0, 9, 15, 2, 69, 9, 2, 50, 3, 2, 78, 44, 2, 3, 66, 2, 29, 78, 3, 43, 44, 3, 80, 84, 1, 23, 45, 2, 87, 15, 3, 44, 68, 2, 41, 9, 3, 31, 26, 1, 73, 32, 3, 39, 19, 2, 44, 10, 1, 88, 64, 2, 6, 69, 1, 39, 5, 77]\n",
      "['div(plus(plus(div(mul(mul(In0, In0), plus(In0, minus(div(minus(plus(In0, In0), plus(In0, In0)), minus(plus(In0, In0), plus(In0, In0))), div(minus(plus(In0, In0), plus(In0, In0)), minus(plus(In0, In0), plus(In0, In0)))))), minus(mul(div(minus(plus(In0, In0), plus(In0, In0)), minus(plus(In0, In0), plus(In0, In0))), In0), minus(plus(In0, In0), plus(In0, In0)))), plus(In0, minus(div(minus(plus(In0, In0), plus(In0, In0)), minus(plus(In0, In0), plus(In0, In0))), div(minus(plus(In0, In0), plus(In0, In0)), minus(plus(In0, In0), plus(In0, In0)))))), mul(mul(div(minus(plus(In0, In0), plus(In0, In0)), minus(plus(In0, In0), plus(In0, In0))), In0), plus(In0, mul(minus(plus(In0, In0), plus(In0, In0)), div(minus(plus(In0, In0), plus(In0, In0)), minus(plus(In0, In0), plus(In0, In0))))))), div(div(div(plus(mul(div(minus(plus(In0, In0), plus(In0, In0)), minus(plus(In0, In0), plus(In0, In0))), In0), mul(In0, In0)), mul(mul(In0, In0), plus(In0, minus(div(minus(plus(In0, In0), plus(In0, In0)), minus(plus(In0, In0), plus(In0, In0))), div(minus(plus(In0, In0), plus(In0, In0)), minus(plus(In0, In0), plus(In0, In0))))))), mul(mul(plus(In0, minus(div(minus(plus(In0, In0), plus(In0, In0)), minus(plus(In0, In0), plus(In0, In0))), div(minus(plus(In0, In0), plus(In0, In0)), minus(plus(In0, In0), plus(In0, In0))))), In0), div(minus(div(minus(plus(In0, In0), plus(In0, In0)), minus(plus(In0, In0), plus(In0, In0))), mul(mul(In0, In0), plus(In0, minus(div(minus(plus(In0, In0), plus(In0, In0)), minus(plus(In0, In0), plus(In0, In0))), div(minus(plus(In0, In0), plus(In0, In0)), minus(plus(In0, In0), plus(In0, In0))))))), plus(minus(div(minus(plus(In0, In0), plus(In0, In0)), minus(plus(In0, In0), plus(In0, In0))), div(minus(plus(In0, In0), plus(In0, In0)), minus(plus(In0, In0), plus(In0, In0)))), plus(In0, minus(div(minus(plus(In0, In0), plus(In0, In0)), minus(plus(In0, In0), plus(In0, In0))), div(minus(plus(In0, In0), plus(In0, In0)), minus(plus(In0, In0), plus(In0, In0))))))))), mul(minus(plus(In0, In0), plus(In0, In0)), div(plus(mul(div(minus(plus(In0, In0), plus(In0, In0)), minus(plus(In0, In0), plus(In0, In0))), In0), mul(In0, In0)), mul(mul(In0, In0), plus(In0, minus(div(minus(plus(In0, In0), plus(In0, In0)), minus(plus(In0, In0), plus(In0, In0))), div(minus(plus(In0, In0), plus(In0, In0)), minus(plus(In0, In0), plus(In0, In0))))))))))']\n"
     ]
    }
   ],
   "source": [
    "genotype = pycartgp.Genotype(\n",
    "    arity=2,\n",
    "    num_functions=len(available_functions),\n",
    "    num_inputs=1,\n",
    "    num_outputs=1, depth=100)\n",
    "print(genotype.raw)\n",
    "print(genotype.explain_outputs(available_functions))"
   ]
  },
  {
   "cell_type": "markdown",
   "metadata": {},
   "source": [
    "Now we can run the evolution until the solution stabilizes (fitness stops improving)."
   ]
  },
  {
   "cell_type": "code",
   "execution_count": 7,
   "metadata": {},
   "outputs": [
    {
     "name": "stdout",
     "output_type": "stream",
     "text": [
      "Steps taken: 1753\n",
      "Final fitness: -2.1457016622011523e-30\n"
     ]
    }
   ],
   "source": [
    "solution, info = genotype.evolve(\n",
    "    available_functions, num_offsprings=4, stable_margin=1e-6,\n",
    "    steps_to_stabilize=1000, fitness_function=fitness)\n",
    "print('Steps taken:', info.steps)\n",
    "print('Final fitness:', info.fitness)"
   ]
  },
  {
   "cell_type": "markdown",
   "metadata": {},
   "source": [
    "The evolved expression can be lengthy, because evolution had to \"invent\" how to construct everything (like constants, etc.) from the only input."
   ]
  },
  {
   "cell_type": "code",
   "execution_count": 8,
   "metadata": {},
   "outputs": [
    {
     "data": {
      "text/plain": [
       "'plus(plus(plus(plus(div(In0, plus(In0, minus(In0, In0))), mul(plus(In0, minus(In0, In0)), plus(In0, minus(In0, In0)))), plus(minus(div(In0, plus(In0, minus(In0, In0))), minus(plus(In0, minus(In0, In0)), minus(In0, In0))), plus(In0, minus(In0, In0)))), mul(plus(div(In0, plus(In0, minus(In0, In0))), minus(plus(In0, minus(In0, In0)), minus(In0, In0))), plus(plus(div(In0, plus(In0, minus(In0, In0))), mul(plus(In0, minus(In0, In0)), plus(In0, minus(In0, In0)))), plus(minus(div(In0, plus(In0, minus(In0, In0))), minus(plus(In0, minus(In0, In0)), minus(In0, In0))), plus(In0, minus(In0, In0)))))), plus(div(plus(In0, minus(In0, In0)), div(minus(In0, In0), minus(In0, In0))), plus(minus(div(In0, plus(In0, minus(In0, In0))), minus(plus(In0, minus(In0, In0)), minus(In0, In0))), plus(In0, minus(In0, In0)))))'"
      ]
     },
     "execution_count": 8,
     "metadata": {},
     "output_type": "execute_result"
    }
   ],
   "source": [
    "solution.explain_outputs(available_functions)[0]"
   ]
  },
  {
   "cell_type": "markdown",
   "metadata": {},
   "source": [
    "We can plot the evolved solution and see how well it fits the dataset"
   ]
  },
  {
   "cell_type": "code",
   "execution_count": 9,
   "metadata": {},
   "outputs": [
    {
     "data": {
      "text/plain": [
       "<matplotlib.collections.PathCollection at 0x106c63dd8>"
      ]
     },
     "execution_count": 9,
     "metadata": {},
     "output_type": "execute_result"
    },
    {
     "data": {
      "image/png": "[encoded data removed]",
      "text/plain": [
       "<Figure size 432x288 with 1 Axes>"
      ]
     },
     "metadata": {},
     "output_type": "display_data"
    }
   ],
   "source": [
    "plt.plot(all_x, [solution.evaluate(available_functions, [x])[0] for x in all_x], 'r')\n",
    "plt.scatter(all_x, all_y)"
   ]
  },
  {
   "cell_type": "markdown",
   "metadata": {},
   "source": [
    "## Human-readable form\n",
    "We can evaluate the evolved solution using SymPy symbols instead of numbers and thus get a valid SymPy\n",
    "expression that is much more readable and can even be further simplified"
   ]
  },
  {
   "cell_type": "code",
   "execution_count": 10,
   "metadata": {},
   "outputs": [
    {
     "data": {
      "image/png": "[encoded data removed]",
      "text/latex": [
       "$$x^{3} + 2 x^{2} + 3 x + 5$$"
      ],
      "text/plain": [
       " 3      2          \n",
       "x  + 2⋅x  + 3⋅x + 5"
      ]
     },
     "execution_count": 10,
     "metadata": {},
     "output_type": "execute_result"
    }
   ],
   "source": [
    "import sympy\n",
    "sympy.init_printing()\n",
    "sympy_expr = solution.evaluate(available_functions, [sympy.symbols('x')])[0]\n",
    "sympy.simplify(sympy.expand(sympy_expr))"
   ]
  },
  {
   "cell_type": "code",
   "execution_count": null,
   "metadata": {},
   "outputs": [],
   "source": []
  }
 ],
 "metadata": {
  "kernelspec": {
   "display_name": "Python 3",
   "language": "python",
   "name": "python3"
  },
  "language_info": {
   "codemirror_mode": {
    "name": "ipython",
    "version": 3
   },
   "file_extension": ".py",
   "mimetype": "text/x-python",
   "name": "python",
   "nbconvert_exporter": "python",
   "pygments_lexer": "ipython3",
   "version": "3.6.2"
  }
 },
 "nbformat": 4,
 "nbformat_minor": 2
}
